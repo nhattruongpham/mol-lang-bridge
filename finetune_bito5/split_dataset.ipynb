{
 "cells": [
  {
   "cell_type": "code",
   "execution_count": null,
   "metadata": {},
   "outputs": [],
   "source": [
    "!pip install -qU rdkit\n",
    "!pip install -qU datasets"
   ]
  },
  {
   "cell_type": "code",
   "execution_count": null,
   "metadata": {},
   "outputs": [],
   "source": [
    "from rdkit import Chem\n",
    "from rdkit.Chem import Draw\n",
    "import datasets\n",
    "from tqdm import tqdm"
   ]
  },
  {
   "cell_type": "code",
   "execution_count": null,
   "metadata": {},
   "outputs": [],
   "source": [
    "def is_canonical_smiles(smiles):\n",
    "    mol = Chem.MolFromSmiles(smiles)\n",
    "    canonical_smiles = Chem.MolToSmiles(mol, isomericSmiles=False, canonical=True)\n",
    "    return smiles == canonical_smiles\n",
    "\n",
    "def save_molecule_image(smiles_string, image_path, image_format=\"PNG\"):\n",
    "    mol = Chem.MolFromSmiles(smiles_string)\n",
    "    img = Draw.MolToImage(mol)\n",
    "    img.save(image_path, image_format)\n",
    "\n",
    "def canonical_to_isomeric(smiles_string):\n",
    "    mol = Chem.MolFromSmiles(smiles_string)\n",
    "    return Chem.MolToSmiles(mol, isomericSmiles=True, canonical=False)\n",
    "\n",
    "def isomeric_to_canonical(smiles_string):\n",
    "    mol = Chem.MolFromSmiles(smiles_string)\n",
    "    return Chem.MolToSmiles(mol, isomericSmiles=False, canonical=True)"
   ]
  },
  {
   "cell_type": "code",
   "execution_count": null,
   "metadata": {},
   "outputs": [],
   "source": [
    "from datasets import load_dataset\n",
    "\n",
    "dataset = load_dataset(\"language-plus-molecules/LPM-24_train\")"
   ]
  },
  {
   "cell_type": "code",
   "execution_count": null,
   "metadata": {},
   "outputs": [],
   "source": [
    "!mkdir \"LPM-24_transform\"\n",
    "!mkdir \"LPM-24_transform/images\""
   ]
  },
  {
   "cell_type": "code",
   "execution_count": null,
   "metadata": {},
   "outputs": [],
   "source": [
    "splits = ['split_train', 'split_valid']\n",
    "\n",
    "for split in splits:\n",
    "    dataset_split = dataset[split]\n",
    "    df = {'id': [], 'canonical': [], 'isomeric': [], 'caption':[]}\n",
    "    pbar = tqdm(range(len(dataset_split)))\n",
    "    for i in pbar:\n",
    "        pbar.set_description(f'{split} | {i}/{len(dataset_split)}')\n",
    "        sample = dataset_split[i]\n",
    "        molecule, caption = sample['molecule'], sample['caption']\n",
    "        if is_canonical_smiles(molecule):\n",
    "            canonical_smiles = molecule\n",
    "            isomeric_smiles = canonical_to_isomeric(molecule)\n",
    "        else:\n",
    "            canonical_smiles = isomeric_to_canonical(molecule)\n",
    "            isomeric_smiles = molecule\n",
    "        \n",
    "        df['id'].append(i)\n",
    "        df['canonical'].append(canonical_smiles)\n",
    "        df['isomeric'].append(isomeric_smiles)\n",
    "        df['caption'].append(caption)\n",
    "\n",
    "\n",
    "        save_molecule_image(molecule, image_path=f\"/content/LPM-24_transform/images/{id}.png\")\n",
    "\n",
    "    df.to_csv(f'/content/LPM-24_transform/{split}.csv')"
   ]
  }
 ],
 "metadata": {
  "language_info": {
   "name": "python"
  }
 },
 "nbformat": 4,
 "nbformat_minor": 2
}
